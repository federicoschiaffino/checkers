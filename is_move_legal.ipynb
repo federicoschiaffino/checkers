{
 "cells": [
  {
   "cell_type": "code",
   "execution_count": 2,
   "id": "bef2421f",
   "metadata": {},
   "outputs": [],
   "source": [
    "import numpy as np "
   ]
  },
  {
   "cell_type": "code",
   "execution_count": 3,
   "id": "c7afc5db",
   "metadata": {},
   "outputs": [],
   "source": [
    "board = np.array([[0, 0, 0, 0],\n",
    "                [0, 0, 0, 0],\n",
    "                [0, 0, 0, 0],\n",
    "                [0, 0, 0, 0],\n",
    "                [0, 0, 0, 0],\n",
    "                [0, 0, 0, 0],\n",
    "                [0, 0, 0, 0],\n",
    "                [0, 0, 0, 0]])\n",
    "\n",
    "#if white pawn is occupying (i,j) then board[i,j]= 1\n",
    "#if white queen is occupying (i,j) then board[i,j]= 2\n",
    "#if black pawn is occupying (i,j) then board[i,j]= -1\n",
    "#if black queen is occupying (i,j) then board[i,j]= -2\n",
    "#if square (i,j) is empty then board[i,j]= 0\n",
    "\n",
    "\n",
    "#White attacks from bottom to top\n",
    "#Black attacks from top to bottom\n",
    "\n",
    "starting_board = np.array([1,1,1,1,1,1,1,1,1,1,1,1,0,0,0,0,0,0,0,0,-1,-1,-1,-1,-1,-1,-1,-1,-1,-1,-1,-1])"
   ]
  },
  {
   "cell_type": "code",
   "execution_count": 6,
   "id": "27811b86",
   "metadata": {},
   "outputs": [
    {
     "data": {
      "text/plain": [
       "6"
      ]
     },
     "execution_count": 6,
     "metadata": {},
     "output_type": "execute_result"
    }
   ],
   "source": [
    "action_state = [(0,4), (0,5), (0, 9), (1,5), (1, 6), (1,3)]\n",
    "len(action_state)"
   ]
  },
  {
   "cell_type": "code",
   "execution_count": 5,
   "id": "8b8b4dc0",
   "metadata": {},
   "outputs": [
    {
     "data": {
      "text/plain": [
       "(32,)"
      ]
     },
     "execution_count": 5,
     "metadata": {},
     "output_type": "execute_result"
    }
   ],
   "source": [
    "starting_board.shape"
   ]
  },
  {
   "cell_type": "code",
   "execution_count": null,
   "id": "db624d07",
   "metadata": {},
   "outputs": [],
   "source": [
    "##### 4%8 >=4"
   ]
  },
  {
   "cell_type": "code",
   "execution_count": null,
   "id": "3ab22a90",
   "metadata": {},
   "outputs": [],
   "source": [
    "move = (4,3)"
   ]
  },
  {
   "cell_type": "code",
   "execution_count": 9,
   "id": "420c830b",
   "metadata": {},
   "outputs": [],
   "source": [
    "def is_move_legal(board, move, color):\n",
    "    #white PAWN\n",
    "    if color == 1:\n",
    "        #white pawn move\n",
    "        if move[1] <= move[0]+5:\n",
    "            # if square is empty\n",
    "            if board[move[1]] == 0:\n",
    "                return True\n",
    "            #if square is occupied\n",
    "            return False\n",
    "        \n",
    "        #white pawn left capture - in odd row\n",
    "        if move[0]%8 < 4:\n",
    "            #left capture\n",
    "            if move[1] == move [0] + 7:\n",
    "                #if opponent is in front and empty square behind \n",
    "                if board[move[0]+4] == -1 and board[move[1]] == 0:\n",
    "                    return True\n",
    "                #else no capture\n",
    "                return False\n",
    "            #right capture\n",
    "            if move[1] == move[0]+9:\n",
    "                #if opponent is in front and empty square behind \n",
    "                if board[move[0]+5] == -1 and board[move[1]] == 0:\n",
    "                    return True\n",
    "                #else no capture\n",
    "                return False\n",
    "        #white left capture - in even row\n",
    "        if move[0]%8 >= 4:\n",
    "            #left capture\n",
    "            if move[1] == move[0] + 7:\n",
    "                #if opponent is in front and empty square behind\n",
    "                if board[move[0]+3] and board[move[1]] == 0:\n",
    "                    return True\n",
    "                #else no capture\n",
    "                return False\n",
    "            #right capture\n",
    "            if move[1] == move[0]+9:\n",
    "                #if opponent is in front and empty square behind \n",
    "                if board[move[0]+4] == -1 and board[move[1]] == 0:\n",
    "                    return True\n",
    "                #else no capture\n",
    "                return False\n",
    "    #white QUEEN\n",
    "    if color == 2:\n",
    "        #white queen move\n",
    "        if (move[1] == move[0]+3 or move[1] == move[0]+4 or move[1] == move[0]+5 \n",
    "        or move[1] == move[0]-3 or move[1] == move[0]-4 or move[1] == move[0]-5):\n",
    "            #if square is empty\n",
    "            if board[move[1]] == 0:\n",
    "                return True\n",
    "            #if square is occupied \n",
    "            return False\n",
    "        \n",
    "        \n",
    "    \n",
    "            \n",
    "    #black PAWN\n",
    "    if color == -1:\n",
    "        #black pawn move\n",
    "        if move[1] >= move[0]-5:\n",
    "            # if square is empty\n",
    "            if board[move[1]] == 0:\n",
    "                return True\n",
    "            #if square is occupied\n",
    "            return False\n",
    "        \n",
    "        #black left capture - in odd row\n",
    "        if move[0]%8 < 4:\n",
    "            #left capture\n",
    "            if move[1] == move [0]-9:\n",
    "                #if opponent is in front and empty square behind \n",
    "                if board[move[0]-4] == 1 and board[move[1]] == 0:\n",
    "                    return True\n",
    "                #else no capture\n",
    "                return False\n",
    "            #right capture\n",
    "            if move[1] == move[0]-7:\n",
    "                #if opponent is in front and empty square behind \n",
    "                if board[move[0]-3] == 1 and board[move[1]] == 0:\n",
    "                    return True\n",
    "                #else no capture\n",
    "                return False\n",
    "        #black left capture - in even row\n",
    "        if move[0]%8 >= 4:\n",
    "            #left capture\n",
    "            if move[1] == move[0]-9:\n",
    "                #if opponent is in front and empty square behind\n",
    "                if board[move[0]-5] == 1 and board[move[1]] == 0:\n",
    "                    return True\n",
    "                #else no capture\n",
    "                return False\n",
    "            #right capture\n",
    "            if move[1] == move[0]-7:\n",
    "                #if opponent is in front and empty square behind \n",
    "                if board[move[0]-4] == 1 and board[move[1]] == 0:\n",
    "                    return True\n",
    "                #else no capture\n",
    "                return False\n",
    "                \n",
    "        \n",
    "    #black QUEEN\n",
    "    if color == -2:\n",
    "        #white queen move\n",
    "        if (move[1] == move[0]+3 or move[1] == move[0]+4 or move[1] == move[0]+5 \n",
    "        or move[1] == move[0]-3 or move[1] == move[0]-4 or move[1] == move[0]-5):\n",
    "            #if square is empty\n",
    "            if board[move[1]] == 0:\n",
    "                return True\n",
    "            #if square is occupied \n",
    "            return False\n"
   ]
  },
  {
   "cell_type": "code",
   "execution_count": null,
   "id": "35f1fcd5",
   "metadata": {},
   "outputs": [],
   "source": []
  },
  {
   "cell_type": "code",
   "execution_count": null,
   "id": "99b705cf",
   "metadata": {},
   "outputs": [],
   "source": []
  }
 ],
 "metadata": {
  "kernelspec": {
   "display_name": "Python 3 (ipykernel)",
   "language": "python",
   "name": "python3"
  },
  "language_info": {
   "codemirror_mode": {
    "name": "ipython",
    "version": 3
   },
   "file_extension": ".py",
   "mimetype": "text/x-python",
   "name": "python",
   "nbconvert_exporter": "python",
   "pygments_lexer": "ipython3",
   "version": "3.8.6"
  },
  "toc": {
   "base_numbering": 1,
   "nav_menu": {},
   "number_sections": true,
   "sideBar": true,
   "skip_h1_title": false,
   "title_cell": "Table of Contents",
   "title_sidebar": "Contents",
   "toc_cell": false,
   "toc_position": {},
   "toc_section_display": true,
   "toc_window_display": false
  }
 },
 "nbformat": 4,
 "nbformat_minor": 5
}
