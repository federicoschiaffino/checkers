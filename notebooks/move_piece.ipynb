{
 "cells": [
  {
   "cell_type": "markdown",
   "id": "5c060328",
   "metadata": {},
   "source": [
    "### Action space definition"
   ]
  },
  {
   "cell_type": "code",
   "execution_count": 21,
   "id": "585cd37f",
   "metadata": {},
   "outputs": [],
   "source": [
    "import numpy as np"
   ]
  },
  {
   "cell_type": "code",
   "execution_count": 46,
   "id": "0368d93a",
   "metadata": {},
   "outputs": [],
   "source": [
    "#definition of action space\n",
    "action_space = [(0,4),\n",
    " (0,5),\n",
    " (1,5),\n",
    " (1,6),\n",
    " (2,6),\n",
    " (2,7),\n",
    " (3,7),\n",
    " (4,0),\n",
    " (4,8),\n",
    " (5,0),\n",
    " (5,1),\n",
    " (5,8),\n",
    " (5,9),\n",
    " (6,1),\n",
    " (6,2),\n",
    " (6,9),\n",
    " (6,10),\n",
    " (7,2),\n",
    " (7,3),\n",
    " (7,10),\n",
    " (7,11),\n",
    " (8,4),\n",
    " (8,5),\n",
    " (8,12),\n",
    " (8,13),\n",
    " (9,5),\n",
    " (9,6),\n",
    " (9,13),\n",
    " (9,14),\n",
    " (10,6),\n",
    " (10,7),\n",
    " (10,14),\n",
    " (10,15),\n",
    " (11,5),\n",
    " (11,15),\n",
    " (12,8),\n",
    " (12,16),\n",
    " (13,8),\n",
    " (13,9),\n",
    " (13,16),\n",
    " (13,17),\n",
    " (14,9),\n",
    " (14,10),\n",
    " (14,17),\n",
    " (14,18),\n",
    " (15,10),\n",
    " (15,11),\n",
    " (15,18),\n",
    " (15,19),\n",
    " (16, 12),\n",
    " (16, 13),\n",
    " (16, 20),\n",
    " (16, 21),\n",
    " (17, 13),\n",
    " (17, 14),\n",
    " (17, 21),\n",
    " (17, 22),\n",
    " (18, 14),\n",
    " (18, 15),\n",
    " (18, 22),\n",
    " (18, 23),\n",
    " (19, 15),\n",
    " (19, 23),\n",
    " (20, 16),\n",
    " (20, 24),\n",
    " (21, 16),\n",
    " (21, 17),\n",
    " (21, 24),\n",
    " (21, 25),\n",
    " (22, 17),\n",
    " (22, 18),\n",
    " (22, 25),\n",
    " (22, 26),\n",
    " (23, 18),\n",
    " (23, 19),\n",
    " (23, 26),\n",
    " (23, 27),\n",
    " (24, 20),\n",
    " (24, 21),\n",
    " (24, 28),\n",
    " (24, 29),\n",
    " (25, 21),\n",
    " (25, 22),\n",
    " (25, 29),\n",
    " (25, 30),\n",
    " (26, 22),\n",
    " (26, 23),\n",
    " (26, 30),\n",
    " (26, 31),\n",
    " (27, 23),\n",
    " (27, 31),\n",
    " (28, 24),\n",
    " (29, 24),\n",
    " (29, 25),\n",
    " (30, 25),\n",
    " (30, 26),\n",
    " (31, 26),\n",
    " (31, 27)]"
   ]
  },
  {
   "cell_type": "code",
   "execution_count": 89,
   "id": "d5ee0129",
   "metadata": {},
   "outputs": [],
   "source": [
    "#example definition of start & stop positions of move\n",
    "start = action_space[34][0]\n",
    "stop = action_space[34][1]"
   ]
  },
  {
   "cell_type": "code",
   "execution_count": 90,
   "id": "eb6d2480",
   "metadata": {},
   "outputs": [],
   "source": [
    "#board situation\n",
    "board = np.array([1,1,1,1,1,1,1,1,1,1,1,1,0,0,0,0,0,0,0,0,-1,-1,-1,-1,-1,-1,-1,-1,-1,-1,-1,-1])"
   ]
  },
  {
   "cell_type": "code",
   "execution_count": 98,
   "id": "c2f398bd",
   "metadata": {},
   "outputs": [],
   "source": [
    "#move_piece function\n",
    "\n",
    "def move_piece(board,start,stop):\n",
    "    piece = board[start] #define piece white: +1, black: -1, wQ = +2, bQ = -2\n",
    "    move = board[stop] #piece on stop space\n",
    "\n",
    "    if piece == 0: #is start position occupied? \n",
    "        return False #nothing to move\n",
    "    elif piece != 0: #start position not empty, can move\n",
    "        if ((piece == -1 and stop > start) or (piece == 1 and stop < start)): #wrong move direction for pawns \n",
    "            return False #wrong direction\n",
    "        elif ((piece == -1 and stop < start) or (piece == 1 and stop > start) or (piece == 2 or piece == -2)): #correct advancing direction for pawns or queens  \n",
    "            if move != 0: #adjacent space not free\n",
    "                return False\n",
    "            else: #adjacent is free and can move\n",
    "                return True"
   ]
  },
  {
   "cell_type": "code",
   "execution_count": 99,
   "id": "903bd4b4",
   "metadata": {},
   "outputs": [
    {
     "data": {
      "text/plain": [
       "True"
      ]
     },
     "execution_count": 99,
     "metadata": {},
     "output_type": "execute_result"
    }
   ],
   "source": [
    "#test on possibility to move\n",
    "move_piece(board,start,stop)"
   ]
  },
  {
   "cell_type": "code",
   "execution_count": null,
   "id": "a63c5115",
   "metadata": {},
   "outputs": [],
   "source": []
  }
 ],
 "metadata": {
  "kernelspec": {
   "display_name": "Python 3 (ipykernel)",
   "language": "python",
   "name": "python3"
  },
  "language_info": {
   "codemirror_mode": {
    "name": "ipython",
    "version": 3
   },
   "file_extension": ".py",
   "mimetype": "text/x-python",
   "name": "python",
   "nbconvert_exporter": "python",
   "pygments_lexer": "ipython3",
   "version": "3.8.6"
  },
  "toc": {
   "base_numbering": 1,
   "nav_menu": {},
   "number_sections": true,
   "sideBar": true,
   "skip_h1_title": false,
   "title_cell": "Table of Contents",
   "title_sidebar": "Contents",
   "toc_cell": false,
   "toc_position": {},
   "toc_section_display": true,
   "toc_window_display": false
  }
 },
 "nbformat": 4,
 "nbformat_minor": 5
}
