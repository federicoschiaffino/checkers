{
 "cells": [
  {
   "cell_type": "markdown",
   "id": "5c060328",
   "metadata": {},
   "source": [
    "### Action space definition"
   ]
  },
  {
   "cell_type": "code",
   "execution_count": 31,
   "id": "585cd37f",
   "metadata": {},
   "outputs": [],
   "source": [
    "import numpy as np"
   ]
  },
  {
   "cell_type": "code",
   "execution_count": 32,
   "id": "0368d93a",
   "metadata": {},
   "outputs": [],
   "source": [
    "#definition of action space\n",
    "action_space = [(0,4),#0\n",
    " (0,5),#1\n",
    " (1,5),#2\n",
    " (1,6),#3\n",
    " (2,6),#4\n",
    " (2,7),#5\n",
    " (3,7),#6\n",
    " (4,0),#7\n",
    " (4,8),#8\n",
    " (5,0),#9\n",
    " (5,1),#10\n",
    " (5,8),#11\n",
    " (5,9),#12\n",
    " (6,1),#13\n",
    " (6,2),#14\n",
    " (6,9),#15\n",
    " (6,10),#16\n",
    " (7,2),#17\n",
    " (7,3),#18\n",
    " (7,10),#19\n",
    " (7,11),#20\n",
    " (8,4),#21\n",
    " (8,5),#22\n",
    " (8,12),#23\n",
    " (8,13),#24\n",
    " (9,5),#25\n",
    " (9,6),#26\n",
    " (9,13),#27\n",
    " (9,14),#28\n",
    " (10,6),#29\n",
    " (10,7),#30\n",
    " (10,14),#31\n",
    " (10,15),#32\n",
    " (11,5),#33\n",
    " (11,15),#34\n",
    " (12,8),#35\n",
    " (12,16),#36\n",
    " (13,8),#37\n",
    " (13,9),#38\n",
    " (13,16),#39\n",
    " (13,17),#40\n",
    " (14,9),#41\n",
    " (14,10),#42\n",
    " (14,17),#43\n",
    " (14,18),#44\n",
    " (15,10),#45\n",
    " (15,11),#46\n",
    " (15,18),#47\n",
    " (15,19),#48\n",
    " (16, 12),#49\n",
    " (16, 13),#50\n",
    " (16, 20),#51\n",
    " (16, 21),#52\n",
    " (17, 13),#53\n",
    " (17, 14),#54\n",
    " (17, 21),#55\n",
    " (17, 22),#56\n",
    " (18, 14),#57\n",
    " (18, 15),#58\n",
    " (18, 22),#59\n",
    " (18, 23),#60\n",
    " (19, 15),#61\n",
    " (19, 23),#62\n",
    " (20, 16),#63\n",
    " (20, 24),#64\n",
    " (21, 16),#65\n",
    " (21, 17),#66\n",
    " (21, 24),#67\n",
    " (21, 25),#68\n",
    " (22, 17),#69\n",
    " (22, 18),#70\n",
    " (22, 25),#71\n",
    " (22, 26),#72\n",
    " (23, 18),#73\n",
    " (23, 19),#74\n",
    " (23, 26),#75\n",
    " (23, 27),#76\n",
    " (24, 20),#77\n",
    " (24, 21),#78\n",
    " (24, 28),#79\n",
    " (24, 29),#80\n",
    " (25, 21),#81\n",
    " (25, 22),#82\n",
    " (25, 29),#83\n",
    " (25, 30),#84\n",
    " (26, 22),#85\n",
    " (26, 23),#86\n",
    " (26, 30),#87\n",
    " (26, 31),#88\n",
    " (27, 23),#89\n",
    " (27, 31),#90\n",
    " (28, 24),#91\n",
    " (29, 24),#92\n",
    " (29, 25),#93\n",
    " (30, 25),#94\n",
    " (30, 26),#95\n",
    " (31, 26),#96\n",
    " (31, 27)]#97"
   ]
  },
  {
   "cell_type": "code",
   "execution_count": 33,
   "id": "d5ee0129",
   "metadata": {},
   "outputs": [],
   "source": [
    "#example definition of start & stop positions and random move\n",
    "random_move = action_space[34]\n",
    "agent = 1"
   ]
  },
  {
   "cell_type": "code",
   "execution_count": 34,
   "id": "eb6d2480",
   "metadata": {},
   "outputs": [],
   "source": [
    "#board situation\n",
    "board = np.array([1,1,1,1,1,1,1,1,1,1,1,1,0,0,0,0,0,0,0,0,-1,-1,-1,-1,-1,-1,-1,-1,-1,-1,-1,-1])"
   ]
  },
  {
   "cell_type": "code",
   "execution_count": 35,
   "id": "624736e3",
   "metadata": {},
   "outputs": [],
   "source": [
    "full_state = [board,agent,random_move] #list with [board = np.array, agent = int(1,-1), random_move = tuple (0,1)]"
   ]
  },
  {
   "cell_type": "code",
   "execution_count": 36,
   "id": "c2f398bd",
   "metadata": {},
   "outputs": [],
   "source": [
    "#move_piece function\n",
    "\n",
    "def move_piece(full_state):\n",
    "    start = full_state[2][0] #defines start position\n",
    "    stop = full_state[2][1] #defines stop position\n",
    "    board = full_state[0] #board\n",
    "    \n",
    "    agent = board[start] #agent white: +1, black: -1, wQ = +2, bQ = -2\n",
    "    move = board[stop] #piece on stop space\n",
    "\n",
    "    if agent == 0: #is start position occupied? \n",
    "        return False #nothing to move\n",
    "    elif agent != 0: #start position not empty, can move\n",
    "        if ((agent == -1 and stop > start) or (agent == 1 and stop < start)): #wrong move direction for pawns \n",
    "            return False #wrong direction\n",
    "        elif ((agent == -1 and stop < start) or (agent == 1 and stop > start) or (agent == 2 or agent == -2)): #correct advancing direction for pawns or queens  \n",
    "            if move != 0: #adjacent space not free\n",
    "                return False\n",
    "            else: #adjacent is free and can move\n",
    "                return True"
   ]
  },
  {
   "cell_type": "code",
   "execution_count": 37,
   "id": "903bd4b4",
   "metadata": {},
   "outputs": [
    {
     "data": {
      "text/plain": [
       "True"
      ]
     },
     "execution_count": 37,
     "metadata": {},
     "output_type": "execute_result"
    }
   ],
   "source": [
    "#test on possibility to move\n",
    "move_piece(full_state)"
   ]
  },
  {
   "cell_type": "code",
   "execution_count": null,
   "id": "a63c5115",
   "metadata": {},
   "outputs": [],
   "source": []
  }
 ],
 "metadata": {
  "kernelspec": {
   "display_name": "Python 3 (ipykernel)",
   "language": "python",
   "name": "python3"
  },
  "language_info": {
   "codemirror_mode": {
    "name": "ipython",
    "version": 3
   },
   "file_extension": ".py",
   "mimetype": "text/x-python",
   "name": "python",
   "nbconvert_exporter": "python",
   "pygments_lexer": "ipython3",
   "version": "3.8.6"
  },
  "toc": {
   "base_numbering": 1,
   "nav_menu": {},
   "number_sections": true,
   "sideBar": true,
   "skip_h1_title": false,
   "title_cell": "Table of Contents",
   "title_sidebar": "Contents",
   "toc_cell": false,
   "toc_position": {},
   "toc_section_display": true,
   "toc_window_display": false
  }
 },
 "nbformat": 4,
 "nbformat_minor": 5
}
