{
 "cells": [
  {
   "cell_type": "code",
   "execution_count": null,
   "id": "8ae69da7",
   "metadata": {},
   "outputs": [],
   "source": [
    "import numpy as np"
   ]
  },
  {
   "cell_type": "code",
   "execution_count": 43,
   "id": "ec677424",
   "metadata": {},
   "outputs": [],
   "source": [
    "\n",
    "def visualize(board):\n",
    "    if len(board) != 32:\n",
    "        return(\"Invalid Board\")\n",
    "    full_board = []\n",
    "    new_board = np.array_split(board, 8)\n",
    "    i = 0\n",
    "    finished_board = []\n",
    "    for i in range(0,8):\n",
    "        if i%2 == 0:\n",
    "            row =[]\n",
    "            for x in new_board[i]:\n",
    "                row.append('W')\n",
    "                row.append(x)\n",
    "        else:\n",
    "            row = []\n",
    "            for x in new_board[i]:\n",
    "                row.append(x)\n",
    "                row.append('W')\n",
    "        finished_board.append(row)\n",
    "        i += 1\n",
    "    print(len(finished_board))\n",
    "    print(len(finished_board[0]))\n",
    "    return finished_board\n",
    "board = [1,1,1,1,1,1,1,1,1,1,1,1,0,0,0,0,0,0,0,0,-1,-1,-1,-1,-1,-1,-1,-1,-1,-1,-1,-1]\n"
   ]
  },
  {
   "cell_type": "code",
   "execution_count": 44,
   "id": "5d585600",
   "metadata": {},
   "outputs": [
    {
     "name": "stdout",
     "output_type": "stream",
     "text": [
      "8\n",
      "8\n"
     ]
    },
    {
     "data": {
      "text/plain": [
       "[['W', 1, 'W', 1, 'W', 1, 'W', 1],\n",
       " [1, 'W', 1, 'W', 1, 'W', 1, 'W'],\n",
       " ['W', 1, 'W', 1, 'W', 1, 'W', 1],\n",
       " [0, 'W', 0, 'W', 0, 'W', 0, 'W'],\n",
       " ['W', 0, 'W', 0, 'W', 0, 'W', 0],\n",
       " [-1, 'W', -1, 'W', -1, 'W', -1, 'W'],\n",
       " ['W', -1, 'W', -1, 'W', -1, 'W', -1],\n",
       " [-1, 'W', -1, 'W', -1, 'W', -1, 'W']]"
      ]
     },
     "execution_count": 44,
     "metadata": {},
     "output_type": "execute_result"
    }
   ],
   "source": [
    "visualize(board)"
   ]
  },
  {
   "cell_type": "code",
   "execution_count": null,
   "id": "56733866",
   "metadata": {},
   "outputs": [],
   "source": []
  },
  {
   "cell_type": "code",
   "execution_count": null,
   "id": "2dd37b47",
   "metadata": {},
   "outputs": [],
   "source": []
  }
 ],
 "metadata": {
  "kernelspec": {
   "display_name": "Python 3 (ipykernel)",
   "language": "python",
   "name": "python3"
  },
  "language_info": {
   "codemirror_mode": {
    "name": "ipython",
    "version": 3
   },
   "file_extension": ".py",
   "mimetype": "text/x-python",
   "name": "python",
   "nbconvert_exporter": "python",
   "pygments_lexer": "ipython3",
   "version": "3.8.6"
  },
  "toc": {
   "base_numbering": 1,
   "nav_menu": {},
   "number_sections": true,
   "sideBar": true,
   "skip_h1_title": false,
   "title_cell": "Table of Contents",
   "title_sidebar": "Contents",
   "toc_cell": false,
   "toc_position": {},
   "toc_section_display": true,
   "toc_window_display": false
  },
  "varInspector": {
   "cols": {
    "lenName": 16,
    "lenType": 16,
    "lenVar": 40
   },
   "kernels_config": {
    "python": {
     "delete_cmd_postfix": "",
     "delete_cmd_prefix": "del ",
     "library": "var_list.py",
     "varRefreshCmd": "print(var_dic_list())"
    },
    "r": {
     "delete_cmd_postfix": ") ",
     "delete_cmd_prefix": "rm(",
     "library": "var_list.r",
     "varRefreshCmd": "cat(var_dic_list()) "
    }
   },
   "types_to_exclude": [
    "module",
    "function",
    "builtin_function_or_method",
    "instance",
    "_Feature"
   ],
   "window_display": false
  }
 },
 "nbformat": 4,
 "nbformat_minor": 5
}
