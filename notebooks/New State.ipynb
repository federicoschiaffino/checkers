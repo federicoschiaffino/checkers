{
 "cells": [
  {
   "cell_type": "code",
   "execution_count": 1,
   "id": "42f620f4",
   "metadata": {},
   "outputs": [],
   "source": [
    "import numpy as np\n",
    "import math"
   ]
  },
  {
   "cell_type": "code",
   "execution_count": 6,
   "id": "cc310d90",
   "metadata": {},
   "outputs": [],
   "source": [
    "def nextState(board,move):\n",
    "    if move[1] == 0:\n",
    "        board = normal_move(board,move)\n",
    "        return board\n",
    "    else:\n",
    "        board = capture(board,move)\n",
    "    return board"
   ]
  },
  {
   "cell_type": "code",
   "execution_count": 7,
   "id": "86657bc2",
   "metadata": {},
   "outputs": [],
   "source": [
    "def normal_move(board,move):\n",
    "    board[move[1]] = board[move[0]]\n",
    "    board[move[0]] = 0\n",
    "    return board"
   ]
  },
  {
   "cell_type": "code",
   "execution_count": 22,
   "id": "fa8cc0c4",
   "metadata": {},
   "outputs": [],
   "source": [
    "def capture(board,move):\n",
    "    row = math.floor(move[0] / 4)\n",
    "    start_col = move[0] % 4\n",
    "    end_col = move[1] % 4\n",
    "    print(row,start_col,end_col)\n",
    "    if row % 2 == 0:\n",
    "        if move[0] < move[1]:\n",
    "            if end_col <= start_col:\n",
    "                #down left\n",
    "                board[move[1]] = 0\n",
    "                board[move[0]+7] = board[move[0]]\n",
    "                board[move[0]] = 0\n",
    "                pass\n",
    "            elif end_col > start_col:\n",
    "                #down right\n",
    "                board[move[1]] = 0\n",
    "                board[move[0]+9] = board[move[0]]\n",
    "                board[move[0]] = 0\n",
    "        if move[0] > move[1]:\n",
    "            if end_col<= start_col:\n",
    "                #up left\n",
    "                board[move[1]] = 0\n",
    "                board[move[0]-9] = board[move[0]]\n",
    "                board[move[0]] = 0\n",
    "            if end_col > start_col:\n",
    "                #up right\n",
    "                board[move[1]] = 0\n",
    "                board[move[0]-7] = board[move[0]]\n",
    "                board[move[0]] = 0\n",
    "    elif row % 2 != 0:\n",
    "        if move[0] < move[1]:\n",
    "            if end_col < start_col:\n",
    "                #down left\n",
    "                board[move[1]] = 0\n",
    "                board[move[0]+7] = board[move[0]]\n",
    "                board[move[0]] = 0\n",
    "            elif end_col >= start_col:\n",
    "                #down right\n",
    "                board[move[1]] = 0\n",
    "                board[move[0]+9] = board[move[0]]\n",
    "                board[move[0]] = 0\n",
    "        if move[0] > move[1]:\n",
    "            if end_col< start_col:\n",
    "                #up left\n",
    "                board[move[1]] = 0\n",
    "                board[move[0]-9] = board[move[0]]\n",
    "                board[move[0]] = 0\n",
    "            if end_col >= start_col:\n",
    "                #up right\n",
    "                board[move[1]] = 0\n",
    "                board[move[0]-7] = board[move[0]]\n",
    "                board[move[0]] = 0\n",
    "    return board"
   ]
  },
  {
   "cell_type": "markdown",
   "id": "8fefd1db",
   "metadata": {},
   "source": [
    "down left 4 - 3 -4 -3\n",
    "down right 5-4 5-4\n",
    "up right -4 -3 -4 -3\n",
    "up left -5 -4 -5 -4"
   ]
  },
  {
   "cell_type": "code",
   "execution_count": 1,
   "id": "8edff18f",
   "metadata": {},
   "outputs": [],
   "source": [
    "board =[1,1,1,1,1,1,1,1,2,1,1,1,0,-1,0,0,0,0,0,0,-1,-1,-1,-1,-1,-1,-1,-1,-1,-1,-1,-1]\n",
    "move = (8,13)"
   ]
  },
  {
   "cell_type": "code",
   "execution_count": 24,
   "id": "b2156936",
   "metadata": {},
   "outputs": [],
   "source": [
    "def visualize(board):\n",
    "    if len(board) != 32:\n",
    "        return(\"Invalid Board\")\n",
    "    full_board = []\n",
    "    new_board = np.array_split(board, 8)\n",
    "    i = 0\n",
    "    finished_board = []\n",
    "    for i in range(0,8):\n",
    "        if i%2 == 0:\n",
    "            row =[]\n",
    "            for x in new_board[i]:\n",
    "                row.append('-')\n",
    "                row.append(x)\n",
    "        else:\n",
    "            row = []\n",
    "            for x in new_board[i]:\n",
    "                row.append(x)\n",
    "                row.append('-')\n",
    "        finished_board.append(row)\n",
    "        i += 1\n",
    "    return finished_board"
   ]
  },
  {
   "cell_type": "code",
   "execution_count": 25,
   "id": "e994c53d",
   "metadata": {},
   "outputs": [
    {
     "data": {
      "text/plain": [
       "[['-', 1, '-', 1, '-', 1, '-', 1],\n",
       " [1, '-', 1, '-', 1, '-', 1, '-'],\n",
       " ['-', 1, '-', 1, '-', 1, '-', 1],\n",
       " [0, '-', -1, '-', 0, '-', 0, '-'],\n",
       " ['-', 0, '-', 0, '-', 0, '-', 0],\n",
       " [-1, '-', -1, '-', -1, '-', -1, '-'],\n",
       " ['-', -1, '-', -1, '-', -1, '-', -1],\n",
       " [-1, '-', -1, '-', -1, '-', -1, '-']]"
      ]
     },
     "execution_count": 25,
     "metadata": {},
     "output_type": "execute_result"
    }
   ],
   "source": [
    "visualize(board)"
   ]
  },
  {
   "cell_type": "code",
   "execution_count": 26,
   "id": "70ac4f62",
   "metadata": {},
   "outputs": [
    {
     "name": "stdout",
     "output_type": "stream",
     "text": [
      "2 0 1\n"
     ]
    },
    {
     "data": {
      "text/plain": [
       "[1,\n",
       " 1,\n",
       " 1,\n",
       " 1,\n",
       " 1,\n",
       " 1,\n",
       " 1,\n",
       " 1,\n",
       " 0,\n",
       " 1,\n",
       " 1,\n",
       " 1,\n",
       " 0,\n",
       " 0,\n",
       " 0,\n",
       " 0,\n",
       " 0,\n",
       " 1,\n",
       " 0,\n",
       " 0,\n",
       " -1,\n",
       " -1,\n",
       " -1,\n",
       " -1,\n",
       " -1,\n",
       " -1,\n",
       " -1,\n",
       " -1,\n",
       " -1,\n",
       " -1,\n",
       " -1,\n",
       " -1]"
      ]
     },
     "execution_count": 26,
     "metadata": {},
     "output_type": "execute_result"
    }
   ],
   "source": [
    "nextState(board,move)"
   ]
  },
  {
   "cell_type": "code",
   "execution_count": 27,
   "id": "4f0cea55",
   "metadata": {},
   "outputs": [
    {
     "data": {
      "text/plain": [
       "[['-', 1, '-', 1, '-', 1, '-', 1],\n",
       " [1, '-', 1, '-', 1, '-', 1, '-'],\n",
       " ['-', 0, '-', 1, '-', 1, '-', 1],\n",
       " [0, '-', 0, '-', 0, '-', 0, '-'],\n",
       " ['-', 0, '-', 1, '-', 0, '-', 0],\n",
       " [-1, '-', -1, '-', -1, '-', -1, '-'],\n",
       " ['-', -1, '-', -1, '-', -1, '-', -1],\n",
       " [-1, '-', -1, '-', -1, '-', -1, '-']]"
      ]
     },
     "execution_count": 27,
     "metadata": {},
     "output_type": "execute_result"
    }
   ],
   "source": [
    "visualize(board)"
   ]
  },
  {
   "cell_type": "code",
   "execution_count": 15,
   "id": "e2b15519",
   "metadata": {},
   "outputs": [
    {
     "data": {
      "text/plain": [
       "0"
      ]
     },
     "execution_count": 15,
     "metadata": {},
     "output_type": "execute_result"
    }
   ],
   "source": [
    "board[17]"
   ]
  },
  {
   "cell_type": "code",
   "execution_count": 16,
   "id": "4f8a9418",
   "metadata": {},
   "outputs": [
    {
     "data": {
      "text/plain": [
       "0"
      ]
     },
     "execution_count": 16,
     "metadata": {},
     "output_type": "execute_result"
    }
   ],
   "source": [
    "board[8]"
   ]
  },
  {
   "cell_type": "code",
   "execution_count": 17,
   "id": "7fc7add8",
   "metadata": {},
   "outputs": [
    {
     "data": {
      "text/plain": [
       "0"
      ]
     },
     "execution_count": 17,
     "metadata": {},
     "output_type": "execute_result"
    }
   ],
   "source": [
    "board[13]"
   ]
  },
  {
   "cell_type": "code",
   "execution_count": null,
   "id": "bc0936eb",
   "metadata": {},
   "outputs": [],
   "source": [
    "move = (20,16)"
   ]
  },
  {
   "cell_type": "code",
   "execution_count": null,
   "id": "f46f3aea",
   "metadata": {},
   "outputs": [],
   "source": [
    "nextState(board,move)"
   ]
  },
  {
   "cell_type": "code",
   "execution_count": null,
   "id": "3f694b89",
   "metadata": {},
   "outputs": [],
   "source": [
    "visualize(board)"
   ]
  },
  {
   "cell_type": "code",
   "execution_count": null,
   "id": "619cdadf",
   "metadata": {},
   "outputs": [],
   "source": [
    "move = (13,20)"
   ]
  },
  {
   "cell_type": "code",
   "execution_count": null,
   "id": "eb97a1bb",
   "metadata": {},
   "outputs": [],
   "source": [
    "nextState(board,move)"
   ]
  },
  {
   "cell_type": "code",
   "execution_count": null,
   "id": "d825fda2",
   "metadata": {},
   "outputs": [],
   "source": [
    "visualize(board)"
   ]
  },
  {
   "cell_type": "code",
   "execution_count": null,
   "id": "b2332c7e",
   "metadata": {},
   "outputs": [],
   "source": [
    "move = (20,16)"
   ]
  },
  {
   "cell_type": "code",
   "execution_count": null,
   "id": "3f39cb1d",
   "metadata": {},
   "outputs": [],
   "source": [
    "nextState(board,move)"
   ]
  },
  {
   "cell_type": "code",
   "execution_count": null,
   "id": "1262b66c",
   "metadata": {},
   "outputs": [],
   "source": [
    "visualize(board)"
   ]
  },
  {
   "cell_type": "code",
   "execution_count": null,
   "id": "592d7866",
   "metadata": {},
   "outputs": [],
   "source": [
    "move = (21,12)"
   ]
  },
  {
   "cell_type": "code",
   "execution_count": null,
   "id": "9ed7fbd7",
   "metadata": {},
   "outputs": [],
   "source": [
    "nextState(board,move)"
   ]
  },
  {
   "cell_type": "code",
   "execution_count": null,
   "id": "7f2aef89",
   "metadata": {},
   "outputs": [],
   "source": [
    "visualize(board)"
   ]
  },
  {
   "cell_type": "code",
   "execution_count": null,
   "id": "d33addba",
   "metadata": {},
   "outputs": [],
   "source": [
    "possibleMoves = [(16,12),(16,13),(16,20),(16,21),(16,9),(16,25),(17,13),(17,14),(17,21),(17,22),(17,8),(17,10),(17,24),(17,26),(18,14),(18,15),(18,22),(18,23),(18,9),(18,11),(18,25),(18,27),(19,15),(19,23),(19,10),(19,26),(20,16),(20,24),(20,13),(20,29),(21,16),(21,17),(21,24),(21,25),(21,12),(21,14),(21,28),(21,30),(22,17),(22,18),(22,25),(22,26),(22,13),(22,15),(22,29),(22,31),(23,18),(23,19),(23,26),(23,27),(23,14),(23,30),(24,20),(24,21),(24,28),(24,29),(24,17),(25,21),(25,22),(25,29),(25,30),(25,16),(25,18),(26,22),(26,23),(26,30),(26,31),(26,17),(26,19),(27,23),(27,31),(27,18),(28,24),(28,21),(29,24),(29,25),(29,20),(29,22),(30,25),(30,26),(30,21),(30,23),(31,26),(31,27),(31,22)]"
   ]
  },
  {
   "cell_type": "code",
   "execution_count": null,
   "id": "9f942498",
   "metadata": {},
   "outputs": [],
   "source": [
    "len(possibleMoves)"
   ]
  },
  {
   "cell_type": "code",
   "execution_count": null,
   "id": "b28d0d0b",
   "metadata": {},
   "outputs": [],
   "source": [
    "for x in possibleMoves:\n",
    "    if abs(x[0]-x[1]) <=5:\n",
    "        newMoves.append(x)\n",
    "        "
   ]
  },
  {
   "cell_type": "code",
   "execution_count": null,
   "id": "f0fd73ee",
   "metadata": {},
   "outputs": [],
   "source": [
    "newMoves = []"
   ]
  },
  {
   "cell_type": "code",
   "execution_count": null,
   "id": "ffc76889",
   "metadata": {},
   "outputs": [],
   "source": [
    "newMoves"
   ]
  },
  {
   "cell_type": "code",
   "execution_count": null,
   "id": "0b2e61f7",
   "metadata": {},
   "outputs": [],
   "source": [
    "len(newMoves)"
   ]
  },
  {
   "cell_type": "code",
   "execution_count": null,
   "id": "8936bdd0",
   "metadata": {},
   "outputs": [],
   "source": [
    "newMoves"
   ]
  },
  {
   "cell_type": "code",
   "execution_count": 9,
   "id": "771f795b",
   "metadata": {},
   "outputs": [],
   "source": [
    "fake_dict = {'1':13,'2':6,'3':13,'4':42,'10':42}"
   ]
  },
  {
   "cell_type": "code",
   "execution_count": 2,
   "id": "14b83dba",
   "metadata": {},
   "outputs": [],
   "source": [
    "def eating_priority(piece_dict):\n",
    "    maxValue = max(piece_dict.values())\n",
    "    pieces = [k for k,v in piece_dict.items() if float(v) >= maxValue]\n",
    "    pawns = []\n",
    "    queens = []\n",
    "    if len(pieces) == 1:\n",
    "        return pieces\n",
    "    else:\n",
    "        for x in pieces:\n",
    "            if abs(board[int(x)]) < 2:\n",
    "                pawns.append(x)\n",
    "            else:\n",
    "                queens.append(x)\n",
    "    if len(queens) == 0:\n",
    "        return pawns\n",
    "    elif(len(queens)) ==1:\n",
    "        return queens\n",
    "    else:\n",
    "        eatingQueens(queens,piece_dict)"
   ]
  },
  {
   "cell_type": "code",
   "execution_count": 10,
   "id": "98084323",
   "metadata": {
    "scrolled": true
   },
   "outputs": [
    {
     "data": {
      "text/plain": [
       "['4', '10']"
      ]
     },
     "execution_count": 10,
     "metadata": {},
     "output_type": "execute_result"
    }
   ],
   "source": [
    "queens = eating_priority(fake_dict)\n",
    "queens"
   ]
  },
  {
   "cell_type": "code",
   "execution_count": 20,
   "id": "49c6aacc",
   "metadata": {},
   "outputs": [],
   "source": [
    "def eatingQueens(queens,dict):\n",
    "    potentialQueenCaptures = []\n",
    "    successfulQueenCaptures = []\n",
    "    for x in queens:\n",
    "        moveable_spaces = []\n",
    "        for i in action_space:\n",
    "            if i[0] == (x): \n",
    "                moveable_spaces.append(i)\n",
    "                for x in moveable_spaces: \n",
    "                    if x[1] == 2:\n",
    "                        potentialQueenCaptures.append(x)\n",
    "    #checking behind\n",
    "    for x in potentialQueenCaptures:\n",
    "        row = math.floor(x[0] / 4)\n",
    "        start_col = x[0] % 4\n",
    "        end_col = x[1] % 4\n",
    "        if row % 2 == 0:\n",
    "            if x[0] < x[1]:\n",
    "                if end_col <= start_col:\n",
    "                #down left\n",
    "                    if board[x[0]+7] == 0:\n",
    "                        successfulQueenCaptures.append(x)\n",
    "                elif end_col > start_col:\n",
    "                #down right\n",
    "                    if board[x[0]+9] == 0:\n",
    "                        successfulQueenCaptures.append(x)\n",
    "            if x[0] > x[1]:\n",
    "                if end_col<= start_col:\n",
    "                    #up left\n",
    "                    if board[x[0]-9] == 0:\n",
    "                        successfulQueenCaptures.append(x)\n",
    "                if end_col > start_col:\n",
    "                    #up right\n",
    "                    if board[x[0]-7] == 0:\n",
    "                        successfulQueenCaptures.append(x)\n",
    "        elif row % 2 != 0:\n",
    "            if x[0] < x[1]:\n",
    "                if end_col < start_col:\n",
    "                #down left\n",
    "                    if board[x[0]+7] == 0:\n",
    "                        successfulQueenCaptures.append(x)\n",
    "                elif end_col >= start_col:\n",
    "                #down right\n",
    "                    if board[x[0]+9] == 0:\n",
    "                        successfulQueenCaptures.append(x)\n",
    "        if x[0] > x[1]:\n",
    "            if end_col< start_col:\n",
    "                #up left\n",
    "                if board[x[0]-9] == 0:\n",
    "                    successfulQueenCaptures.append(x)\n",
    "            if end_col >= start_col:\n",
    "                #up right\n",
    "                if board[x[0]-7] == 0:\n",
    "                    successfulQueenCaptures.append(x)\n",
    "    return successfulQueenCaptures"
   ]
  },
  {
   "cell_type": "code",
   "execution_count": 21,
   "id": "149f05b4",
   "metadata": {},
   "outputs": [
    {
     "data": {
      "text/plain": [
       "[]"
      ]
     },
     "execution_count": 21,
     "metadata": {},
     "output_type": "execute_result"
    }
   ],
   "source": [
    "eatingQueens(queens,fake_dict)"
   ]
  },
  {
   "cell_type": "code",
   "execution_count": 12,
   "id": "c5e832fc",
   "metadata": {},
   "outputs": [],
   "source": [
    "action_space = [(0,4),\n",
    " (0,5),\n",
    " (1,5),\n",
    " (1,6),\n",
    " (2,6),\n",
    " (2,7),\n",
    " (3,7),\n",
    " (4,0),\n",
    " (4,8),\n",
    " (5,0),\n",
    " (5,1),\n",
    " (5,8),\n",
    " (5,9),\n",
    " (6,1),\n",
    " (6,2),\n",
    " (6,9),\n",
    " (6,10),\n",
    " (7,2),\n",
    " (7,3),\n",
    " (7,10),\n",
    " (7,11),\n",
    " (8,4),\n",
    " (8,5),\n",
    " (8,12),\n",
    " (8,13),\n",
    " (9,5),\n",
    " (9,6),\n",
    " (9,13),\n",
    " (9,14),\n",
    " (10,6),\n",
    " (10,7),\n",
    " (10,14),\n",
    " (10,15),\n",
    " (11,5),\n",
    " (11,15),\n",
    " (12,8),\n",
    " (12,16),\n",
    " (13,8),\n",
    " (13,9),\n",
    " (13,16),\n",
    " (13,17),\n",
    " (14,9),\n",
    " (14,10),\n",
    " (14,17),\n",
    " (14,18),\n",
    " (15,10),\n",
    " (15,11),\n",
    " (15,18),\n",
    " (15,19),\n",
    " (16, 12),\n",
    " (16, 13),\n",
    " (16, 20),\n",
    " (16, 21),\n",
    " (17, 13),\n",
    " (17, 14),\n",
    " (17, 21),\n",
    " (17, 22),\n",
    " (18, 14),\n",
    " (18, 15),\n",
    " (18, 22),\n",
    " (18, 23),\n",
    " (19, 15),\n",
    " (19, 23),\n",
    " (20, 16),\n",
    " (20, 24),\n",
    " (21, 16),\n",
    " (21, 17),\n",
    " (21, 24),\n",
    " (21, 25),\n",
    " (22, 17),\n",
    " (22, 18),\n",
    " (22, 25),\n",
    " (22, 26),\n",
    " (23, 18),\n",
    " (23, 19),\n",
    " (23, 26),\n",
    " (23, 27),\n",
    " (24, 20),\n",
    " (24, 21),\n",
    " (24, 28),\n",
    " (24, 29),\n",
    " (25, 21),\n",
    " (25, 22),\n",
    " (25, 29),\n",
    " (25, 30),\n",
    " (26, 22),\n",
    " (26, 23),\n",
    " (26, 30),\n",
    " (26, 31),\n",
    " (27, 23),\n",
    " (27, 31),\n",
    " (28, 24),\n",
    " (29, 24),\n",
    " (29, 25),\n",
    " (30, 25),\n",
    " (30, 26),\n",
    " (31, 26),\n",
    " (31, 27)]"
   ]
  },
  {
   "cell_type": "code",
   "execution_count": null,
   "id": "e1efaed8",
   "metadata": {},
   "outputs": [],
   "source": []
  }
 ],
 "metadata": {
  "kernelspec": {
   "display_name": "Python 3 (ipykernel)",
   "language": "python",
   "name": "python3"
  },
  "language_info": {
   "codemirror_mode": {
    "name": "ipython",
    "version": 3
   },
   "file_extension": ".py",
   "mimetype": "text/x-python",
   "name": "python",
   "nbconvert_exporter": "python",
   "pygments_lexer": "ipython3",
   "version": "3.8.6"
  },
  "toc": {
   "base_numbering": 1,
   "nav_menu": {},
   "number_sections": true,
   "sideBar": true,
   "skip_h1_title": false,
   "title_cell": "Table of Contents",
   "title_sidebar": "Contents",
   "toc_cell": false,
   "toc_position": {},
   "toc_section_display": true,
   "toc_window_display": false
  },
  "varInspector": {
   "cols": {
    "lenName": 16,
    "lenType": 16,
    "lenVar": 40
   },
   "kernels_config": {
    "python": {
     "delete_cmd_postfix": "",
     "delete_cmd_prefix": "del ",
     "library": "var_list.py",
     "varRefreshCmd": "print(var_dic_list())"
    },
    "r": {
     "delete_cmd_postfix": ") ",
     "delete_cmd_prefix": "rm(",
     "library": "var_list.r",
     "varRefreshCmd": "cat(var_dic_list()) "
    }
   },
   "types_to_exclude": [
    "module",
    "function",
    "builtin_function_or_method",
    "instance",
    "_Feature"
   ],
   "window_display": false
  }
 },
 "nbformat": 4,
 "nbformat_minor": 5
}
