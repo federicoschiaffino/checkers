{
 "cells": [
  {
   "cell_type": "code",
   "execution_count": 1,
   "id": "42f620f4",
   "metadata": {},
   "outputs": [],
   "source": [
    "import numpy as np"
   ]
  },
  {
   "cell_type": "code",
   "execution_count": 2,
   "id": "cc310d90",
   "metadata": {},
   "outputs": [],
   "source": [
    "def nextState(board,move):\n",
    "    if abs(move[1]-move[0])<= 5:\n",
    "        board[move[1]] = board[move[0]]\n",
    "        board[move[0]] = 0\n",
    "    else:\n",
    "        board[move[1]] = board[move[0]]\n",
    "        board[move[0]] = 0\n",
    "        if abs(move[0] - move[1]) == 7:\n",
    "            if move[0]< move[1]:\n",
    "                board[move[0]+3] = 0\n",
    "            elif move[0]> move[1]:\n",
    "                board[move[0]-4] = 0\n",
    "        elif(abs(move[0]- move[1])) ==9:\n",
    "            if move[0]< move[1]:\n",
    "                board[move[0]+4] = 0\n",
    "            elif move[0] > move[1]:\n",
    "                board[move[0]- 5]= 0\n",
    "        \n",
    "    return board"
   ]
  },
  {
   "cell_type": "code",
   "execution_count": 3,
   "id": "8edff18f",
   "metadata": {},
   "outputs": [],
   "source": [
    "board =[1,1,1,1,1,1,1,1,1,1,1,1,0,0,0,0,0,0,0,0,-1,-1,-1,-1,-1,-1,-1,-1,-1,-1,-1,-1]\n",
    "move = (8,13)"
   ]
  },
  {
   "cell_type": "code",
   "execution_count": 4,
   "id": "b2156936",
   "metadata": {},
   "outputs": [],
   "source": [
    "def visualize(board):\n",
    "    if len(board) != 32:\n",
    "        return(\"Invalid Board\")\n",
    "    full_board = []\n",
    "    new_board = np.array_split(board, 8)\n",
    "    i = 0\n",
    "    finished_board = []\n",
    "    for i in range(0,8):\n",
    "        if i%2 == 0:\n",
    "            row =[]\n",
    "            for x in new_board[i]:\n",
    "                row.append('-')\n",
    "                row.append(x)\n",
    "        else:\n",
    "            row = []\n",
    "            for x in new_board[i]:\n",
    "                row.append(x)\n",
    "                row.append('-')\n",
    "        finished_board.append(row)\n",
    "        i += 1\n",
    "    return finished_board"
   ]
  },
  {
   "cell_type": "code",
   "execution_count": 5,
   "id": "e994c53d",
   "metadata": {},
   "outputs": [
    {
     "data": {
      "text/plain": [
       "[['-', 1, '-', 1, '-', 1, '-', 1],\n",
       " [1, '-', 1, '-', 1, '-', 1, '-'],\n",
       " ['-', 1, '-', 1, '-', 1, '-', 1],\n",
       " [0, '-', 0, '-', 0, '-', 0, '-'],\n",
       " ['-', 0, '-', 0, '-', 0, '-', 0],\n",
       " [-1, '-', -1, '-', -1, '-', -1, '-'],\n",
       " ['-', -1, '-', -1, '-', -1, '-', -1],\n",
       " [-1, '-', -1, '-', -1, '-', -1, '-']]"
      ]
     },
     "execution_count": 5,
     "metadata": {},
     "output_type": "execute_result"
    }
   ],
   "source": [
    "visualize(board)"
   ]
  },
  {
   "cell_type": "code",
   "execution_count": 6,
   "id": "4f0cea55",
   "metadata": {
    "collapsed": true
   },
   "outputs": [
    {
     "data": {
      "text/plain": [
       "[1,\n",
       " 1,\n",
       " 1,\n",
       " 1,\n",
       " 1,\n",
       " 1,\n",
       " 1,\n",
       " 1,\n",
       " 0,\n",
       " 1,\n",
       " 1,\n",
       " 1,\n",
       " 0,\n",
       " 1,\n",
       " 0,\n",
       " 0,\n",
       " 0,\n",
       " 0,\n",
       " 0,\n",
       " 0,\n",
       " -1,\n",
       " -1,\n",
       " -1,\n",
       " -1,\n",
       " -1,\n",
       " -1,\n",
       " -1,\n",
       " -1,\n",
       " -1,\n",
       " -1,\n",
       " -1,\n",
       " -1]"
      ]
     },
     "execution_count": 6,
     "metadata": {},
     "output_type": "execute_result"
    }
   ],
   "source": [
    "nextState(board,move)"
   ]
  },
  {
   "cell_type": "code",
   "execution_count": 7,
   "id": "e2b15519",
   "metadata": {},
   "outputs": [
    {
     "data": {
      "text/plain": [
       "[['-', 1, '-', 1, '-', 1, '-', 1],\n",
       " [1, '-', 1, '-', 1, '-', 1, '-'],\n",
       " ['-', 0, '-', 1, '-', 1, '-', 1],\n",
       " [0, '-', 1, '-', 0, '-', 0, '-'],\n",
       " ['-', 0, '-', 0, '-', 0, '-', 0],\n",
       " [-1, '-', -1, '-', -1, '-', -1, '-'],\n",
       " ['-', -1, '-', -1, '-', -1, '-', -1],\n",
       " [-1, '-', -1, '-', -1, '-', -1, '-']]"
      ]
     },
     "execution_count": 7,
     "metadata": {},
     "output_type": "execute_result"
    }
   ],
   "source": [
    "visualize(board)"
   ]
  },
  {
   "cell_type": "code",
   "execution_count": 8,
   "id": "bc0936eb",
   "metadata": {},
   "outputs": [],
   "source": [
    "move = (20,16)"
   ]
  },
  {
   "cell_type": "code",
   "execution_count": 9,
   "id": "f46f3aea",
   "metadata": {
    "collapsed": true
   },
   "outputs": [
    {
     "data": {
      "text/plain": [
       "[1,\n",
       " 1,\n",
       " 1,\n",
       " 1,\n",
       " 1,\n",
       " 1,\n",
       " 1,\n",
       " 1,\n",
       " 0,\n",
       " 1,\n",
       " 1,\n",
       " 1,\n",
       " 0,\n",
       " 1,\n",
       " 0,\n",
       " 0,\n",
       " -1,\n",
       " 0,\n",
       " 0,\n",
       " 0,\n",
       " 0,\n",
       " -1,\n",
       " -1,\n",
       " -1,\n",
       " -1,\n",
       " -1,\n",
       " -1,\n",
       " -1,\n",
       " -1,\n",
       " -1,\n",
       " -1,\n",
       " -1]"
      ]
     },
     "execution_count": 9,
     "metadata": {},
     "output_type": "execute_result"
    }
   ],
   "source": [
    "nextState(board,move)"
   ]
  },
  {
   "cell_type": "code",
   "execution_count": 10,
   "id": "3f694b89",
   "metadata": {},
   "outputs": [
    {
     "data": {
      "text/plain": [
       "[['-', 1, '-', 1, '-', 1, '-', 1],\n",
       " [1, '-', 1, '-', 1, '-', 1, '-'],\n",
       " ['-', 0, '-', 1, '-', 1, '-', 1],\n",
       " [0, '-', 1, '-', 0, '-', 0, '-'],\n",
       " ['-', -1, '-', 0, '-', 0, '-', 0],\n",
       " [0, '-', -1, '-', -1, '-', -1, '-'],\n",
       " ['-', -1, '-', -1, '-', -1, '-', -1],\n",
       " [-1, '-', -1, '-', -1, '-', -1, '-']]"
      ]
     },
     "execution_count": 10,
     "metadata": {},
     "output_type": "execute_result"
    }
   ],
   "source": [
    "visualize(board)"
   ]
  },
  {
   "cell_type": "code",
   "execution_count": 11,
   "id": "619cdadf",
   "metadata": {},
   "outputs": [],
   "source": [
    "move = (13,20)"
   ]
  },
  {
   "cell_type": "code",
   "execution_count": 12,
   "id": "eb97a1bb",
   "metadata": {
    "collapsed": true
   },
   "outputs": [
    {
     "data": {
      "text/plain": [
       "[1,\n",
       " 1,\n",
       " 1,\n",
       " 1,\n",
       " 1,\n",
       " 1,\n",
       " 1,\n",
       " 1,\n",
       " 0,\n",
       " 1,\n",
       " 1,\n",
       " 1,\n",
       " 0,\n",
       " 0,\n",
       " 0,\n",
       " 0,\n",
       " 0,\n",
       " 0,\n",
       " 0,\n",
       " 0,\n",
       " 1,\n",
       " -1,\n",
       " -1,\n",
       " -1,\n",
       " -1,\n",
       " -1,\n",
       " -1,\n",
       " -1,\n",
       " -1,\n",
       " -1,\n",
       " -1,\n",
       " -1]"
      ]
     },
     "execution_count": 12,
     "metadata": {},
     "output_type": "execute_result"
    }
   ],
   "source": [
    "nextState(board,move)"
   ]
  },
  {
   "cell_type": "code",
   "execution_count": 13,
   "id": "d825fda2",
   "metadata": {},
   "outputs": [
    {
     "data": {
      "text/plain": [
       "[['-', 1, '-', 1, '-', 1, '-', 1],\n",
       " [1, '-', 1, '-', 1, '-', 1, '-'],\n",
       " ['-', 0, '-', 1, '-', 1, '-', 1],\n",
       " [0, '-', 0, '-', 0, '-', 0, '-'],\n",
       " ['-', 0, '-', 0, '-', 0, '-', 0],\n",
       " [1, '-', -1, '-', -1, '-', -1, '-'],\n",
       " ['-', -1, '-', -1, '-', -1, '-', -1],\n",
       " [-1, '-', -1, '-', -1, '-', -1, '-']]"
      ]
     },
     "execution_count": 13,
     "metadata": {},
     "output_type": "execute_result"
    }
   ],
   "source": [
    "visualize(board)"
   ]
  },
  {
   "cell_type": "code",
   "execution_count": 14,
   "id": "b2332c7e",
   "metadata": {},
   "outputs": [],
   "source": [
    "move = (20,16)"
   ]
  },
  {
   "cell_type": "code",
   "execution_count": 15,
   "id": "3f39cb1d",
   "metadata": {
    "collapsed": true
   },
   "outputs": [
    {
     "data": {
      "text/plain": [
       "[1,\n",
       " 1,\n",
       " 1,\n",
       " 1,\n",
       " 1,\n",
       " 1,\n",
       " 1,\n",
       " 1,\n",
       " 0,\n",
       " 1,\n",
       " 1,\n",
       " 1,\n",
       " 0,\n",
       " 0,\n",
       " 0,\n",
       " 0,\n",
       " 1,\n",
       " 0,\n",
       " 0,\n",
       " 0,\n",
       " 0,\n",
       " -1,\n",
       " -1,\n",
       " -1,\n",
       " -1,\n",
       " -1,\n",
       " -1,\n",
       " -1,\n",
       " -1,\n",
       " -1,\n",
       " -1,\n",
       " -1]"
      ]
     },
     "execution_count": 15,
     "metadata": {},
     "output_type": "execute_result"
    }
   ],
   "source": [
    "nextState(board,move)"
   ]
  },
  {
   "cell_type": "code",
   "execution_count": 16,
   "id": "1262b66c",
   "metadata": {},
   "outputs": [
    {
     "data": {
      "text/plain": [
       "[['-', 1, '-', 1, '-', 1, '-', 1],\n",
       " [1, '-', 1, '-', 1, '-', 1, '-'],\n",
       " ['-', 0, '-', 1, '-', 1, '-', 1],\n",
       " [0, '-', 0, '-', 0, '-', 0, '-'],\n",
       " ['-', 1, '-', 0, '-', 0, '-', 0],\n",
       " [0, '-', -1, '-', -1, '-', -1, '-'],\n",
       " ['-', -1, '-', -1, '-', -1, '-', -1],\n",
       " [-1, '-', -1, '-', -1, '-', -1, '-']]"
      ]
     },
     "execution_count": 16,
     "metadata": {},
     "output_type": "execute_result"
    }
   ],
   "source": [
    "visualize(board)"
   ]
  },
  {
   "cell_type": "code",
   "execution_count": 17,
   "id": "592d7866",
   "metadata": {},
   "outputs": [],
   "source": [
    "move = (21,12)"
   ]
  },
  {
   "cell_type": "code",
   "execution_count": 18,
   "id": "9ed7fbd7",
   "metadata": {
    "collapsed": true
   },
   "outputs": [
    {
     "data": {
      "text/plain": [
       "[1,\n",
       " 1,\n",
       " 1,\n",
       " 1,\n",
       " 1,\n",
       " 1,\n",
       " 1,\n",
       " 1,\n",
       " 0,\n",
       " 1,\n",
       " 1,\n",
       " 1,\n",
       " -1,\n",
       " 0,\n",
       " 0,\n",
       " 0,\n",
       " 0,\n",
       " 0,\n",
       " 0,\n",
       " 0,\n",
       " 0,\n",
       " 0,\n",
       " -1,\n",
       " -1,\n",
       " -1,\n",
       " -1,\n",
       " -1,\n",
       " -1,\n",
       " -1,\n",
       " -1,\n",
       " -1,\n",
       " -1]"
      ]
     },
     "execution_count": 18,
     "metadata": {},
     "output_type": "execute_result"
    }
   ],
   "source": [
    "nextState(board,move)"
   ]
  },
  {
   "cell_type": "code",
   "execution_count": 19,
   "id": "7f2aef89",
   "metadata": {},
   "outputs": [
    {
     "data": {
      "text/plain": [
       "[['-', 1, '-', 1, '-', 1, '-', 1],\n",
       " [1, '-', 1, '-', 1, '-', 1, '-'],\n",
       " ['-', 0, '-', 1, '-', 1, '-', 1],\n",
       " [-1, '-', 0, '-', 0, '-', 0, '-'],\n",
       " ['-', 0, '-', 0, '-', 0, '-', 0],\n",
       " [0, '-', 0, '-', -1, '-', -1, '-'],\n",
       " ['-', -1, '-', -1, '-', -1, '-', -1],\n",
       " [-1, '-', -1, '-', -1, '-', -1, '-']]"
      ]
     },
     "execution_count": 19,
     "metadata": {},
     "output_type": "execute_result"
    }
   ],
   "source": [
    "visualize(board)"
   ]
  },
  {
   "cell_type": "code",
   "execution_count": 35,
   "id": "d33addba",
   "metadata": {},
   "outputs": [],
   "source": [
    "possibleMoves = [(16,12),(16,13),(16,20),(16,21),(16,9),(16,25),(17,13),(17,14),(17,21),(17,22),(17,8),(17,10),(17,24),(17,26),(18,14),(18,15),(18,22),(18,23),(18,9),(18,11),(18,25),(18,27),(19,15),(19,23),(19,10),(19,26),(20,16),(20,24),(20,13),(20,29),(21,16),(21,17),(21,24),(21,25),(21,12),(21,14),(21,28),(21,30),(22,17),(22,18),(22,25),(22,26),(22,13),(22,15),(22,29),(22,31),(23,18),(23,19),(23,26),(23,27),(23,14),(23,30),(24,20),(24,21),(24,28),(24,29),(24,17),(25,21),(25,22),(25,29),(25,30),(25,16),(25,18),(26,22),(26,23),(26,30),(26,31),(26,17),(26,19),(27,23),(27,31),(27,18),(28,24),(28,21),(29,24),(29,25),(29,20),(29,22),(30,25),(30,26),(30,21),(30,23),(31,26),(31,27),(31,22)]"
   ]
  },
  {
   "cell_type": "code",
   "execution_count": 29,
   "id": "9f942498",
   "metadata": {},
   "outputs": [
    {
     "data": {
      "text/plain": [
       "85"
      ]
     },
     "execution_count": 29,
     "metadata": {},
     "output_type": "execute_result"
    }
   ],
   "source": [
    "len(possibleMoves)"
   ]
  },
  {
   "cell_type": "code",
   "execution_count": 43,
   "id": "b28d0d0b",
   "metadata": {},
   "outputs": [],
   "source": [
    "for x in possibleMoves:\n",
    "    if abs(x[0]-x[1]) <=5:\n",
    "        newMoves.append(x)\n",
    "        "
   ]
  },
  {
   "cell_type": "code",
   "execution_count": 42,
   "id": "f0fd73ee",
   "metadata": {},
   "outputs": [],
   "source": [
    "newMoves = []"
   ]
  },
  {
   "cell_type": "code",
   "execution_count": 44,
   "id": "ffc76889",
   "metadata": {
    "collapsed": true
   },
   "outputs": [
    {
     "data": {
      "text/plain": [
       "[(16, 12),\n",
       " (16, 13),\n",
       " (16, 20),\n",
       " (16, 21),\n",
       " (17, 13),\n",
       " (17, 14),\n",
       " (17, 21),\n",
       " (17, 22),\n",
       " (18, 14),\n",
       " (18, 15),\n",
       " (18, 22),\n",
       " (18, 23),\n",
       " (19, 15),\n",
       " (19, 23),\n",
       " (20, 16),\n",
       " (20, 24),\n",
       " (21, 16),\n",
       " (21, 17),\n",
       " (21, 24),\n",
       " (21, 25),\n",
       " (22, 17),\n",
       " (22, 18),\n",
       " (22, 25),\n",
       " (22, 26),\n",
       " (23, 18),\n",
       " (23, 19),\n",
       " (23, 26),\n",
       " (23, 27),\n",
       " (24, 20),\n",
       " (24, 21),\n",
       " (24, 28),\n",
       " (24, 29),\n",
       " (25, 21),\n",
       " (25, 22),\n",
       " (25, 29),\n",
       " (25, 30),\n",
       " (26, 22),\n",
       " (26, 23),\n",
       " (26, 30),\n",
       " (26, 31),\n",
       " (27, 23),\n",
       " (27, 31),\n",
       " (28, 24),\n",
       " (29, 24),\n",
       " (29, 25),\n",
       " (30, 25),\n",
       " (30, 26),\n",
       " (31, 26),\n",
       " (31, 27)]"
      ]
     },
     "execution_count": 44,
     "metadata": {},
     "output_type": "execute_result"
    }
   ],
   "source": [
    "newMoves"
   ]
  },
  {
   "cell_type": "code",
   "execution_count": 45,
   "id": "0b2e61f7",
   "metadata": {},
   "outputs": [
    {
     "data": {
      "text/plain": [
       "49"
      ]
     },
     "execution_count": 45,
     "metadata": {},
     "output_type": "execute_result"
    }
   ],
   "source": [
    "len(newMoves)"
   ]
  },
  {
   "cell_type": "code",
   "execution_count": null,
   "id": "8936bdd0",
   "metadata": {},
   "outputs": [],
   "source": []
  }
 ],
 "metadata": {
  "kernelspec": {
   "display_name": "Python 3 (ipykernel)",
   "language": "python",
   "name": "python3"
  },
  "language_info": {
   "codemirror_mode": {
    "name": "ipython",
    "version": 3
   },
   "file_extension": ".py",
   "mimetype": "text/x-python",
   "name": "python",
   "nbconvert_exporter": "python",
   "pygments_lexer": "ipython3",
   "version": "3.8.6"
  },
  "toc": {
   "base_numbering": 1,
   "nav_menu": {},
   "number_sections": true,
   "sideBar": true,
   "skip_h1_title": false,
   "title_cell": "Table of Contents",
   "title_sidebar": "Contents",
   "toc_cell": false,
   "toc_position": {},
   "toc_section_display": true,
   "toc_window_display": false
  },
  "varInspector": {
   "cols": {
    "lenName": 16,
    "lenType": 16,
    "lenVar": 40
   },
   "kernels_config": {
    "python": {
     "delete_cmd_postfix": "",
     "delete_cmd_prefix": "del ",
     "library": "var_list.py",
     "varRefreshCmd": "print(var_dic_list())"
    },
    "r": {
     "delete_cmd_postfix": ") ",
     "delete_cmd_prefix": "rm(",
     "library": "var_list.r",
     "varRefreshCmd": "cat(var_dic_list()) "
    }
   },
   "types_to_exclude": [
    "module",
    "function",
    "builtin_function_or_method",
    "instance",
    "_Feature"
   ],
   "window_display": false
  }
 },
 "nbformat": 4,
 "nbformat_minor": 5
}
